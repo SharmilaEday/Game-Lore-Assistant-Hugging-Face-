{
  "nbformat": 4,
  "nbformat_minor": 0,
  "metadata": {
    "colab": {
      "provenance": []
    },
    "kernelspec": {
      "name": "python3",
      "display_name": "Python 3"
    },
    "language_info": {
      "name": "python"
    }
  },
  "cells": [
    {
      "cell_type": "code",
      "source": [
        "!pip install -q sentence-transformers faiss-cpu transformers gradio"
      ],
      "metadata": {
        "id": "CJmrra0gbRaj"
      },
      "execution_count": 33,
      "outputs": []
    },
    {
      "cell_type": "code",
      "source": [
        "#Importing the required libraries\n",
        "\n",
        "import faiss\n",
        "import gradio as gr\n",
        "from sentence_transformers import SentenceTransformer\n",
        "from transformers import pipeline\n",
        "\n",
        "# Loading embedding model\n",
        "embedder = SentenceTransformer('all-MiniLM-L6-v2')\n",
        "\n",
        "# Loading local text generation model (bart-large-cnn)\n",
        "generator = pipeline(\"text2text-generation\", model=\"facebook/bart-large-cnn\", device=0 if __import__('torch').cuda.is_available() else -1)"
      ],
      "metadata": {
        "colab": {
          "base_uri": "https://localhost:8080/"
        },
        "id": "4YXpQ4LadUM3",
        "outputId": "f07d243e-486a-4386-fcb9-ab63e96a896c"
      },
      "execution_count": 34,
      "outputs": [
        {
          "output_type": "stream",
          "name": "stderr",
          "text": [
            "Device set to use cpu\n"
          ]
        }
      ]
    },
    {
      "cell_type": "code",
      "source": [
        "game_lore = [\n",
        "    \"Dragons once ruled the skies of Tamriel, feared and revered by all.\",\n",
        "    \"The Empire was founded by Tiber Septim, a legendary warrior and ruler.\",\n",
        "    \"The Thieves Guild operates in the shadows, thriving in major cities.\",\n",
        "    \"Magic is regulated by the Mages Guild, which trains all aspiring wizards.\",\n",
        "    \"The Dark Brotherhood is a secretive assassin organization bound by a sacred code.\"\n",
        "]\n",
        "\n",
        "# Embedding the lore\n",
        "lore_embeddings = embedder.encode(game_lore, convert_to_numpy=True)\n",
        "\n",
        "# Building the FAISS index\n",
        "index = faiss.IndexFlatL2(lore_embeddings.shape[1])\n",
        "index.add(lore_embeddings)"
      ],
      "metadata": {
        "id": "mqFeWhndbmOX"
      },
      "execution_count": 35,
      "outputs": []
    },
    {
      "cell_type": "code",
      "source": [
        "def answer_question(question):\n",
        "\n",
        "    # Embedding the question\n",
        "    question_embedding = embedder.encode([question], convert_to_numpy=True)\n",
        "\n",
        "    # Searching most similar lore\n",
        "    _, indices = index.search(question_embedding, k=1)\n",
        "    matched_lore = game_lore[indices[0][0]]\n",
        "\n",
        "    # Building prompt for local model\n",
        "    prompt = f\"Context: {matched_lore}\\nQuestion: {question}\\nAnswer:\"\n",
        "\n",
        "    # Generating the answer locally\n",
        "    result = generator(prompt, max_length=100, do_sample=False)[0]['generated_text']\n",
        "\n",
        "    return result"
      ],
      "metadata": {
        "id": "RuCsNR6hbpcf"
      },
      "execution_count": 36,
      "outputs": []
    },
    {
      "cell_type": "code",
      "source": [
        "#Using gradio deploy\n",
        "\n",
        "gr.Interface(\n",
        "    fn=answer_question,\n",
        "    inputs=\"text\",\n",
        "    outputs=\"text\",\n",
        "    title=\"Local Game Lore Assistant\",\n",
        "    description=\"Ask lore questions and get instant answers with a local Hugging Face model.\"\n",
        ").launch(share=True)"
      ],
      "metadata": {
        "colab": {
          "base_uri": "https://localhost:8080/",
          "height": 609
        },
        "id": "1FDRRZIrbsoD",
        "outputId": "6f76ab23-5f76-4dbb-d8e6-3009b2d879b7"
      },
      "execution_count": 37,
      "outputs": [
        {
          "output_type": "stream",
          "name": "stdout",
          "text": [
            "Colab notebook detected. To show errors in colab notebook, set debug=True in launch()\n",
            "* Running on public URL: https://78a7644a47ba522866.gradio.live\n",
            "\n",
            "This share link expires in 1 week. For free permanent hosting and GPU upgrades, run `gradio deploy` from the terminal in the working directory to deploy to Hugging Face Spaces (https://huggingface.co/spaces)\n"
          ]
        },
        {
          "output_type": "display_data",
          "data": {
            "text/plain": [
              "<IPython.core.display.HTML object>"
            ],
            "text/html": [
              "<div><iframe src=\"https://78a7644a47ba522866.gradio.live\" width=\"100%\" height=\"500\" allow=\"autoplay; camera; microphone; clipboard-read; clipboard-write;\" frameborder=\"0\" allowfullscreen></iframe></div>"
            ]
          },
          "metadata": {}
        },
        {
          "output_type": "execute_result",
          "data": {
            "text/plain": []
          },
          "metadata": {},
          "execution_count": 37
        }
      ]
    }
  ]
}